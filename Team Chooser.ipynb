{
 "cells": [
  {
   "cell_type": "code",
   "execution_count": 1,
   "metadata": {},
   "outputs": [],
   "source": [
    "from random import choice"
   ]
  },
  {
   "cell_type": "code",
   "execution_count": 2,
   "metadata": {
    "scrolled": true
   },
   "outputs": [
    {
     "name": "stdout",
     "output_type": "stream",
     "text": [
      "['Aftab', 'Rahul', 'Ahtesham', 'Shahid', 'Ali nawaz', 'Salman']\n"
     ]
    }
   ],
   "source": [
    "players= [\"Aftab\",\"Rahul\",\"Ahtesham\",\"Shahid\",\"Ali nawaz\",\"Salman\"]\n",
    "print(players)"
   ]
  },
  {
   "cell_type": "code",
   "execution_count": 3,
   "metadata": {},
   "outputs": [
    {
     "name": "stdout",
     "output_type": "stream",
     "text": [
      "Team A: ['Salman', 'Ali nawaz', 'Rahul']\n",
      "Team B: ['Ahtesham', 'Aftab', 'Shahid']\n"
     ]
    }
   ],
   "source": [
    "TeamA=[]\n",
    "TeamB=[]\n",
    "\n",
    "while len(players) > 0:\n",
    "    playersA= choice(players)\n",
    "    TeamA.append(playersA)\n",
    "    players.remove(playersA)\n",
    "  \n",
    "  \n",
    "    playersB= choice(players)\n",
    "    TeamB.append(playersB)\n",
    "    players.remove(playersB)\n",
    "  \n",
    "print('Team A:' , TeamA)\n",
    "print('Team B:' , TeamB)"
   ]
  }
 ],
 "metadata": {
  "kernelspec": {
   "display_name": "Python 3",
   "language": "python",
   "name": "python3"
  },
  "language_info": {
   "codemirror_mode": {
    "name": "ipython",
    "version": 3
   },
   "file_extension": ".py",
   "mimetype": "text/x-python",
   "name": "python",
   "nbconvert_exporter": "python",
   "pygments_lexer": "ipython3",
   "version": "3.6.5"
  }
 },
 "nbformat": 4,
 "nbformat_minor": 2
}
