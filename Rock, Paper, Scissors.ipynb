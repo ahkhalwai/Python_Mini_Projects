{
 "cells": [
  {
   "cell_type": "code",
   "execution_count": 3,
   "metadata": {},
   "outputs": [
    {
     "name": "stdout",
     "output_type": "stream",
     "text": [
      "Rock(r), Paper(p) or Scissors(s)? s\n",
      "s vs s\n",
      "Draw!\n"
     ]
    }
   ],
   "source": [
    "from random import randint\n",
    "player=input('Rock(r), Paper(p) or Scissors(s)? ')\n",
    "print(player,'vs',end=' ')\n",
    "\n",
    "chosen=randint(1,3)\n",
    "#print(chosen)\n",
    "\n",
    "if chosen == 1:\n",
    "    computer='r'\n",
    "elif chosen == 2:\n",
    "    computer='p'  \n",
    "else:\n",
    "    computer='s'\n",
    "\n",
    "print(computer)   \n",
    "\n",
    "if player == computer:\n",
    "  print('Draw!')\n",
    "elif player == 'r' and computer == 's':\n",
    "  print('Aftab wins!')  \n",
    "elif player == 'r' and computer == 'p':\n",
    "  print('Ali Nawaz wins!')    \n",
    "elif player == 'p' and computer == 'r':\n",
    "  print('Aftab wins!')    \n",
    "elif player == 'p' and computer == 's':\n",
    "  print('Ali Nawaz wins!')    "
   ]
  }
 ],
 "metadata": {
  "kernelspec": {
   "display_name": "Python 3",
   "language": "python",
   "name": "python3"
  },
  "language_info": {
   "codemirror_mode": {
    "name": "ipython",
    "version": 3
   },
   "file_extension": ".py",
   "mimetype": "text/x-python",
   "name": "python",
   "nbconvert_exporter": "python",
   "pygments_lexer": "ipython3",
   "version": "3.6.5"
  }
 },
 "nbformat": 4,
 "nbformat_minor": 2
}
